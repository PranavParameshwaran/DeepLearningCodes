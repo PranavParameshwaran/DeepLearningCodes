{
  "cells": [
    {
      "metadata": {
        "trusted": false,
        "_uuid": "a89d7184c065a831291616ea5d445dcc98fec210"
      },
      "cell_type": "code",
      "source": "import os\nimport sys\nimport pickle\nimport numpy as np\nimport pandas as pd\nfrom PIL import Image, ImageFilter\nfrom tqdm import tqdm_notebook\nfrom sklearn.preprocessing import StandardScaler\nfrom sklearn.metrics import accuracy_score, mean_squared_error, log_loss, confusion_matrix\nfrom padhai import MPNeuron, Perceptron, PerceptronWithSigmoid\nimport matplotlib.pyplot as plt\n\nnp.random.seed(100)\nLEVEL = 'level_3'",
      "execution_count": null,
      "outputs": []
    },
    {
      "metadata": {
        "trusted": false,
        "_uuid": "b6572b74133c5cae625bcfa91f75070a0e7da159"
      },
      "cell_type": "code",
      "source": "class SigmoidNeuron:\n    \n    \n    def __init__(self):\n        self.w = None\n        self.b = None\n    \n    def perceptron(self, x):\n        return np.dot(x, self.w.T) + self.b\n    \n    def sigmoid(self, x):\n        return 1.0/(1.0 + np.exp(-x))\n    \n    #The Below is code is not using KLD\n    def grad_w_mse(self, x, y):\n        y_pred = self.sigmoid(self.perceptron(x))\n        return (y_pred - y) * y_pred * (1 - y_pred) * x\n    \n    #The Below is code is not using KLD\n    def grad_b_mse(self, x, y):\n        y_pred = self.sigmoid(self.perceptron(x))\n        return (y_pred - y) * y_pred * (1 - y_pred)\n    \n    #The Below is code is using KLD \n    def grad_w_ce(self, x, y):\n        y_pred = self.sigmoid(self.perceptron(x))\n        if y == 0:\n            return y_pred * x\n        elif y == 1:\n            return -1 * (1 - y_pred) * x\n        else:\n            raise ValueError(\"y should be 0 or 1\")\n            \n    #The Below is code is using KLD\n    def grad_b_ce(self, x, y):\n        y_pred = self.sigmoid(self.perceptron(x))\n        if y == 0:\n            return y_pred \n        elif y == 1:\n            return -1 * (1 - y_pred)\n        else:\n            raise ValueError(\"y should be 0 or 1\")\n\n    def fit(self, X, Y, epochs=1, learning_rate=1, initialise=True, loss_fn=\"mse\", display_loss=False):  # mse = Mean Square Error; SET THE loss_fn value to ce which mean Cross Entropy\n\n    # initialise w, b\n        if initialise:\n            self.w = np.random.randn(1, X.shape[1])\n            self.b = 0\n\n        if display_loss:\n            loss = {}\n\n        for i in tqdm_notebook(range(epochs), total=epochs, unit=\"epoch\"):\n            dw = 0\n            db = 0\n            for x, y in zip(X, Y):\n                if loss_fn == \"mse\":\n                    dw += self.grad_w_mse(x, y)\n                    db += self.grad_b_mse(x, y) \n                elif loss_fn == \"ce\":\n                    dw += self.grad_w_ce(x, y)\n                    db += self.grad_b_ce(x, y)\n            self.w -= learning_rate * dw\n            self.b -= learning_rate * db\n\n            if display_loss:\n                Y_pred = self.sigmoid(self.perceptron(X))\n            if loss_fn == \"mse\":\n                loss[i] = mean_squared_error(Y, Y_pred)\n            elif loss_fn == \"ce\":\n                loss[i] = log_loss(Y, Y_pred)\n\n        if display_loss:\n            plt.plot(loss.values())\n            plt.xlabel('Epochs')\n            if loss_fn == \"mse\":\n                plt.ylabel('Mean Squared Error')\n            elif loss_fn == \"ce\":\n                plt.ylabel('Log Loss')\n            plt.show()\n\n    def predict(self, X):\n        Y_pred = []\n        for x in X:\n            y_pred = self.sigmoid(self.perceptron(x))\n            Y_pred.append(y_pred)\n        return np.array(Y_pred)",
      "execution_count": null,
      "outputs": []
    },
    {
      "metadata": {
        "trusted": false,
        "_uuid": "90cf2a07e82fdfff91acbdc79b72600d2f561225"
      },
      "cell_type": "code",
      "source": "def read_all(folder_path, key_prefix=\"\"):\n    '''\n    It returns a dictionary with 'file names' as keys and 'flattened image arrays' as values.\n    '''\n    print(\"Reading:\")\n    images = {}\n    files = os.listdir(folder_path)\n    for i, file_name in tqdm_notebook(enumerate(files), total=len(files)):\n        file_path = os.path.join(folder_path, file_name)\n        image_index = key_prefix + file_name[:-4]\n        image = Image.open(file_path)\n        image = image.convert(\"L\")\n        images[image_index] = np.array(image.copy()).flatten()\n        image.close()\n    return images",
      "execution_count": null,
      "outputs": []
    },
    {
      "metadata": {
        "trusted": false,
        "_uuid": "bd473ca8f31fe96d7b0d426564a8902d26560f27"
      },
      "cell_type": "code",
      "source": "languages = ['ta', 'hi', 'en']\n\nimages_train = read_all(\"../input/level_3_train/\"+LEVEL+\"/\"+\"background\", key_prefix='bgr_') # change the path\nfor language in languages:\n    images_train.update(read_all(\"../input/level_3_train/\"+LEVEL+\"/\"+language, key_prefix=language+\"_\" ))\nprint(len(images_train))\n\nimages_test = read_all(\"../input/level_3_test/kaggle_\"+LEVEL, key_prefix='') # change the path\nprint(len(images_test))",
      "execution_count": null,
      "outputs": []
    },
    {
      "metadata": {
        "trusted": false,
        "_uuid": "d7a21623c8363cf38614fb0cdfc9aeb1ae98ae50"
      },
      "cell_type": "code",
      "source": "list(images_test.keys())[:5]",
      "execution_count": null,
      "outputs": []
    },
    {
      "metadata": {
        "trusted": false,
        "_uuid": "97866c7ac0d060a60cce5f7323c019fa0a478540"
      },
      "cell_type": "code",
      "source": "X_train = []\nY_train = []\nfor key, value in images_train.items():\n    X_train.append(value)\n    if key[:4] == \"bgr_\":\n        Y_train.append(0)\n    else:\n        Y_train.append(1)\n\nID_test = []\nX_test = []\nfor key, value in images_test.items():\n    ID_test.append(int(key))\n    X_test.append(value)\n\nX_train = np.array(X_train)\nY_train = np.array(Y_train)\nX_test = np.array(X_test)\n\nprint(X_train.shape, Y_train.shape)\nprint(X_test.shape)",
      "execution_count": null,
      "outputs": []
    },
    {
      "metadata": {
        "trusted": false,
        "_uuid": "2d154b99dfd3bc68bc683beefdd509f774d38610"
      },
      "cell_type": "code",
      "source": "scaler = StandardScaler()\nX_scaled_train = scaler.fit_transform(X_train)\nX_scaled_test = scaler.transform(X_test)",
      "execution_count": null,
      "outputs": []
    },
    {
      "metadata": {
        "trusted": false,
        "_uuid": "b6862d063cd0aa5262bf54a2614af90881245c98"
      },
      "cell_type": "code",
      "source": "sn_mse = SigmoidNeuron()\nsn_mse.fit(X_scaled_train, Y_train, epochs=100, learning_rate=0.015, loss_fn=\"mse\", display_loss=True)",
      "execution_count": null,
      "outputs": []
    },
    {
      "metadata": {
        "trusted": false,
        "_uuid": "3a6fa395340d4d19e155520eeeef3f4eda95e1bb"
      },
      "cell_type": "code",
      "source": "sn_ce = SigmoidNeuron()\nsn_ce.fit(X_scaled_train, Y_train, epochs=100, learning_rate=0.015, loss_fn=\"ce\", display_loss=True)",
      "execution_count": null,
      "outputs": []
    },
    {
      "metadata": {
        "trusted": false,
        "_uuid": "ff88fa4a09878717913c74266f6cbbdae3330b36"
      },
      "cell_type": "code",
      "source": "def print_accuracy(sn):\n    Y_pred_train = sn.predict(X_scaled_train)\n    Y_pred_binarised_train = (Y_pred_train >= 0.5).astype(\"int\").ravel()\n    accuracy_train = accuracy_score(Y_pred_binarised_train, Y_train)\n    print(\"Train Accuracy : \", accuracy_train)\n    print(\"-\"*50)",
      "execution_count": null,
      "outputs": []
    },
    {
      "metadata": {
        "trusted": false,
        "_uuid": "3567d4c9c0f21f6dae8489794ecdb2c9639cc083"
      },
      "cell_type": "code",
      "source": "print_accuracy(sn_mse)\nprint_accuracy(sn_ce)",
      "execution_count": null,
      "outputs": []
    },
    {
      "metadata": {
        "_uuid": "a29c3216ab896c8c6f8823c434e4bfc473270236"
      },
      "cell_type": "markdown",
      "source": "## Sample Submission"
    },
    {
      "metadata": {
        "trusted": false,
        "_uuid": "e8f307614505798220cad4da713416b285472ebe"
      },
      "cell_type": "code",
      "source": "Y_pred_test = sn_ce.predict(X_scaled_test)\nY_pred_binarised_test = (Y_pred_test >= 0.5).astype(\"int\").ravel()\n\nsubmission = {}\nsubmission['ImageId'] = ID_test\nsubmission['Class'] = Y_pred_binarised_test\n\nsubmission = pd.DataFrame(submission)\nsubmission = submission[['ImageId', 'Class']]\nsubmission = submission.sort_values(['ImageId'])\nsubmission.to_csv(\"submisision.csv\", index=False)",
      "execution_count": null,
      "outputs": []
    },
    {
      "metadata": {
        "trusted": false,
        "_uuid": "d0e4a72099f6f4cfc30b4c040d4127101cf8c1a5"
      },
      "cell_type": "code",
      "source": "",
      "execution_count": null,
      "outputs": []
    }
  ],
  "metadata": {
    "kernelspec": {
      "display_name": "Python 3",
      "language": "python",
      "name": "python3"
    },
    "language_info": {
      "codemirror_mode": {
        "name": "ipython",
        "version": 3
      },
      "file_extension": ".py",
      "mimetype": "text/x-python",
      "name": "python",
      "nbconvert_exporter": "python",
      "pygments_lexer": "ipython3",
      "version": "3.7.2"
    }
  },
  "nbformat": 4,
  "nbformat_minor": 1
}